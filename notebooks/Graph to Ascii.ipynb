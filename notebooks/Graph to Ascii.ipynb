{
 "cells": [
  {
   "cell_type": "code",
   "execution_count": 5,
   "id": "dacc8ff6",
   "metadata": {},
   "outputs": [],
   "source": [
    "import matplotlib.pyplot as plt\n",
    "import numpy as np\n",
    "from PIL import Image, ImageDraw, ImageFont\n",
    "from string import ascii_letters, digits, punctuation"
   ]
  },
  {
   "cell_type": "code",
   "execution_count": 6,
   "id": "2eacde9f",
   "metadata": {},
   "outputs": [],
   "source": [
    "data = np.log(np.linspace(1,100, 100))"
   ]
  },
  {
   "cell_type": "code",
   "execution_count": 41,
   "id": "3d8393b0",
   "metadata": {},
   "outputs": [],
   "source": [
    "def get_ascii_pixels(pixel_dim):\n",
    "    font = ImageFont.truetype('FreeMono.ttf', pixel_dim + int(pixel_dim/4))\n",
    "    \n",
    "    char_matrix = None\n",
    "    characters = ascii_letters + digits + punctuation + \" \"\n",
    "    characters = punctuation + \" \"\n",
    "    \n",
    "    for char in characters:\n",
    "        img = Image.new('L', (pixel_dim,pixel_dim), color = 255)\n",
    "        img_text = ImageDraw.Draw(img)\n",
    "        img_text.text((pixel_dim/4,pixel_dim/4*-1),char, font=font, fill = (0))\n",
    "        img = np.array(img).reshape(-1, pixel_dim, pixel_dim)\n",
    "        if char_matrix is None:\n",
    "            char_matrix = img\n",
    "        else:\n",
    "            char_matrix = np.vstack([char_matrix, img])\n",
    "    return char_matrix"
   ]
  },
  {
   "cell_type": "code",
   "execution_count": 65,
   "id": "f5e388ca",
   "metadata": {},
   "outputs": [],
   "source": [
    "def get_graph_pixels(data):\n",
    "    fig, ax = plt.subplots(figsize=(6.72, 1.92))\n",
    "    ax.plot(data, linewidth = 1)\n",
    "    fig.canvas.draw()\n",
    "    \n",
    "    image = np.frombuffer(fig.canvas.tostring_rgb(),  dtype=np.uint8,)\n",
    "    image = image.reshape(fig.canvas.get_width_height()[::-1] + (3,))\n",
    "    im = Image.fromarray(image).convert('L')\n",
    "    return np.array(im)"
   ]
  },
  {
   "cell_type": "code",
   "execution_count": 66,
   "id": "76dc08ec",
   "metadata": {},
   "outputs": [],
   "source": [
    "def get_ascii_encoding(graph, pixel_dim):\n",
    "    chars_matrix = get_ascii_pixels(pixel_dim)\n",
    "    characters = ascii_letters + digits + punctuation + \" \"\n",
    "    characters = punctuation + \" \"\n",
    "    rtn_chars = []\n",
    "    \n",
    "    \n",
    "    for row in range(0, int(graph.shape[0]/pixel_dim) - 2):\n",
    "        char_row = []\n",
    "        \n",
    "        for col in range(0, int(graph.shape[1]/pixel_dim) - 2):\n",
    "            subset = graph[row * pixel_dim:(row + 1) * pixel_dim,\n",
    "                          col * pixel_dim:(col + 1) * pixel_dim]\n",
    "        \n",
    "            diffs = np.abs([np.sum(subset - chars_matrix[idx]) for idx in range(0, chars_matrix.shape[0])])\n",
    "            char_row.append(characters[np.argmin(diffs)])\n",
    "        rtn_chars.append(\"\".join(char_row))\n",
    "    return rtn_chars"
   ]
  },
  {
   "cell_type": "code",
   "execution_count": 67,
   "id": "4f415234",
   "metadata": {},
   "outputs": [
    {
     "data": {
      "image/png": "[encoded data removed]",
      "text/plain": [
       "<Figure size 672x192 with 1 Axes>"
      ]
     },
     "metadata": {},
     "output_type": "display_data"
    }
   ],
   "source": [
    "graph = get_graph_pixels(data)"
   ]
  },
  {
   "cell_type": "code",
   "execution_count": 76,
   "id": "e18b4d52",
   "metadata": {
    "scrolled": true
   },
   "outputs": [],
   "source": [
    "z = get_ascii_encoding(graph, pixel_dim=8)"
   ]
  },
  {
   "cell_type": "code",
   "execution_count": 77,
   "id": "8fecd5a0",
   "metadata": {},
   "outputs": [
    {
     "name": "stdout",
     "output_type": "stream",
     "text": [
      "                                                                                  \n",
      "                                                                                  \n",
      "          __________________________________________________________________      \n",
      "          ]````````````````````````````````````````````````````````````??``[      \n",
      "          ]                                            _ .,.+ =+*\"'^``     [      \n",
      "          %                                  __,& =*='``                   [      \n",
      "        = ]                         ___.-=*\"``                             [      \n",
      "          ]                     .-=*\"`                                     [      \n",
      "          ]                .-+\"`                                           [      \n",
      "          ]             ,=\"                                                [      \n",
      "          ]          ,+`                                                   [      \n",
      "          ]        .*                                                      [      \n",
      "        _ ]      _>                                                        [      \n",
      "          ]     _^                                                         [      \n",
      "          ]    _`                                                          [      \n",
      "          ]    '                                                           [      \n",
      "          ]   /                                                            [      \n",
      "          ]   `                                                            [      \n",
      "          ]                                                                [      \n",
      "          ]  &                                                             [      \n",
      "        ` ]  ^                                                             [      \n",
      "          %==]==============================================================      \n"
     ]
    }
   ],
   "source": [
    "with open(\"temp.txt\", \"w\") as file_out:\n",
    "    for l in z:\n",
    "        file_out.write(l + \"\\n\")\n",
    "        print(l)"
   ]
  },
  {
   "cell_type": "code",
   "execution_count": 64,
   "id": "623674a2",
   "metadata": {},
   "outputs": [
    {
     "data": {
      "text/plain": [
       "<matplotlib.image.AxesImage at 0x7f24ca24ad10>"
      ]
     },
     "execution_count": 64,
     "metadata": {},
     "output_type": "execute_result"
    },
    {
     "data": {
      "image/png": "[encoded data removed]",
      "text/plain": [
       "<Figure size 640x480 with 1 Axes>"
      ]
     },
     "metadata": {},
     "output_type": "display_data"
    }
   ],
   "source": [
    "plt.imshow(graph)"
   ]
  },
  {
   "cell_type": "code",
   "execution_count": null,
   "id": "abe6e25d",
   "metadata": {},
   "outputs": [],
   "source": []
  }
 ],
 "metadata": {
  "kernelspec": {
   "display_name": "Python 3 (ipykernel)",
   "language": "python",
   "name": "python3"
  },
  "language_info": {
   "codemirror_mode": {
    "name": "ipython",
    "version": 3
   },
   "file_extension": ".py",
   "mimetype": "text/x-python",
   "name": "python",
   "nbconvert_exporter": "python",
   "pygments_lexer": "ipython3",
   "version": "3.10.6"
  }
 },
 "nbformat": 4,
 "nbformat_minor": 5
}
